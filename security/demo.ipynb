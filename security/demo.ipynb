{
 "cells": [
  {
   "cell_type": "markdown",
   "metadata": {},
   "source": [
    "# Security Best Practice when programming\n",
    "\n",
    "**OWASP** stands for **open web application security project**, and it’s a standard that provides developers with a list of secure development requirements, along with a solid ground for testing web application security. The OWASP [Secure Coding Practices Checklist](https://owasp.org/www-project-secure-coding-practices-quick-reference-guide/stable-en/02-checklist/05-checklist).\n",
    "\n",
    "Breakdown blog for OWASP security checklist: https://www.codingdojo.com/blog/secure-coding-practices\n",
    "\n",
    "[OWASP Developer Guide](https://owasp.org/www-project-developer-guide/release/) for developers to learn about various security concepts and serves a handy reference for devs.\n",
    "\n",
    "[OWASP Cheat Sheet](https://cheatsheetseries.owasp.org/index.html) is a place for specific application security topics."
   ]
  },
  {
   "cell_type": "code",
   "execution_count": null,
   "metadata": {},
   "outputs": [],
   "source": []
  }
 ],
 "metadata": {
  "kernelspec": {
   "display_name": "Python (Pixi)",
   "language": "python",
   "name": "pixi-kernel-python3"
  },
  "language_info": {
   "codemirror_mode": {
    "name": "ipython",
    "version": 3
   },
   "file_extension": ".py",
   "mimetype": "text/x-python",
   "name": "python",
   "nbconvert_exporter": "python",
   "pygments_lexer": "ipython3",
   "version": "3.11.10"
  }
 },
 "nbformat": 4,
 "nbformat_minor": 4
}
